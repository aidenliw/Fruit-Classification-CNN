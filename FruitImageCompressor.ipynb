{
 "cells": [
  {
   "cell_type": "markdown",
   "metadata": {},
   "source": [
    "# Fruit Image Compressor  \n",
    "This code compresses image data into an npz file for smaller data storage and faster data processing."
   ]
  },
  {
   "cell_type": "code",
   "execution_count": null,
   "metadata": {},
   "outputs": [],
   "source": [
    "import os\n",
    "import numpy as np\n",
    "from PIL import Image\n",
    "\n",
    "# define function to load images\n",
    "def load_images_from_folder(folder):\n",
    "    images = []\n",
    "    for filename in os.listdir(folder):\n",
    "        img = Image.open(os.path.join(folder, filename)).convert('RGB')\n",
    "        if img is not None:\n",
    "            images.append(np.array(img))\n",
    "    return images\n",
    "\n",
    "dataset_path = r'data\\train\\train'\n",
    "dataset_train = {}\n",
    "\n",
    "for class_folder in os.listdir(dataset_path):\n",
    "    class_folder_path = os.path.join(dataset_path, class_folder)\n",
    "    if os.path.isdir(class_folder_path):\n",
    "        dataset_train[class_folder] = load_images_from_folder(class_folder_path)\n",
    "\n",
    "# Save image to NPZ\n",
    "np.savez_compressed('fruit_train.npz', **dataset_train)\n",
    "\n",
    "# load data from NPZ\n",
    "dataset_train = np.load('fruit_train.npz')\n",
    "\n",
    "# print a summary of the dataset\n",
    "for fruit in dataset_train.files:\n",
    "    images = dataset_train[fruit]\n",
    "    print(f\"{fruit}: {images.shape}\")"
   ]
  }
 ],
 "metadata": {
  "language_info": {
   "name": "python"
  }
 },
 "nbformat": 4,
 "nbformat_minor": 2
}
